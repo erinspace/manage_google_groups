{
 "metadata": {
  "name": "",
  "signature": "sha256:ca791b029a4b6576600fa9f1b1f7a44b026c3d09ed1e49743f4a8afeec461521"
 },
 "nbformat": 3,
 "nbformat_minor": 0,
 "worksheets": [
  {
   "cells": [
    {
     "cell_type": "heading",
     "level": 1,
     "metadata": {},
     "source": [
      "Changing Group Settings with the Google Groups API"
     ]
    },
    {
     "cell_type": "heading",
     "level": 2,
     "metadata": {},
     "source": [
      "Setup on the Google Developers Console"
     ]
    },
    {
     "cell_type": "heading",
     "level": 3,
     "metadata": {},
     "source": [
      "Create an Application and activate the Groups API"
     ]
    },
    {
     "cell_type": "markdown",
     "metadata": {},
     "source": [
      "- Visit the [google developers console](https://console.developers.google.com)\n",
      "- Click \"Create Project\"\n",
      "- Give your project a name and an ID\n",
      "- Under the \"APIs & auth\" heading, click APIs\n",
      "- Under \"Browse APIs\" search for \"Groups Settings API\"\n",
      "- Turn the \"Groups Settings API\" status to ON"
     ]
    },
    {
     "cell_type": "heading",
     "level": 3,
     "metadata": {},
     "source": [
      "Create Credentials for your Application"
     ]
    },
    {
     "cell_type": "markdown",
     "metadata": {},
     "source": [
      "- Under \"APIs & auth\" click \"Credentials\"\n",
      "- Under \"Oauth\" click \"Create new client ID\"\n",
      "- Choose \"Installed application\" and choose \"other\"\n",
      "- Copy your CLIENT ID and CLIENT SECRET variables into your settings file"
     ]
    },
    {
     "cell_type": "heading",
     "level": 2,
     "metadata": {},
     "source": [
      "The Code"
     ]
    },
    {
     "cell_type": "code",
     "collapsed": false,
     "input": [
      "from __future__ import unicode_literals\n",
      "\n",
      "import json\n",
      "import gflags\n",
      "import httplib2\n",
      "\n",
      "import requests\n",
      "from requests_oauthlib import OAuth2Session\n",
      "\n",
      "from apiclient.discovery import build\n",
      "from oauth2client.file import Storage\n",
      "from oauth2client.client import OAuth2WebServerFlow\n",
      "from oauth2client.tools import run\n",
      "\n",
      "import settings"
     ],
     "language": "python",
     "metadata": {},
     "outputs": [],
     "prompt_number": 1
    },
    {
     "cell_type": "heading",
     "level": 3,
     "metadata": {},
     "source": [
      "Set Permissions and authorize groups object"
     ]
    },
    {
     "cell_type": "code",
     "collapsed": false,
     "input": [
      "client_id = settings.CLIENT_ID\n",
      "client_secret = settings.CLIENT_SECRET"
     ],
     "language": "python",
     "metadata": {},
     "outputs": [],
     "prompt_number": 2
    },
    {
     "cell_type": "markdown",
     "metadata": {},
     "source": [
      "Create a service object to access the groups settings API with our credentials"
     ]
    },
    {
     "cell_type": "code",
     "collapsed": false,
     "input": [
      "def create_groups_object(client_id, client_secret):\n",
      "    \n",
      "    # Set up a Flow object to be used to authenticate\n",
      "    FLOW = OAuth2WebServerFlow(\n",
      "    client_id=client_id,\n",
      "    client_secret=client_secret,\n",
      "    scope='https://www.googleapis.com/auth/apps.groups.settings')\n",
      "    \n",
      "    # If the Credentials don't exist or are invalid, run through the native client flow.  \n",
      "    # The Storage object will ensure that if successful the good credentials will get written back to a file.\n",
      "    storage = Storage('groups-settings.dat')\n",
      "    credentials = storage.get()\n",
      "    if credentials is None or credentials.invalid == True:\n",
      "        credentials = run(FLOW, storage)\n",
      "        \n",
      "    # Create an httplib2.Http object to handle our HTTP requests and authorize it  \n",
      "    # with our credentials\n",
      "    http = httplib2.Http()\n",
      "    http = credentials.authorize(http)\n",
      "    \n",
      "    service = build(serviceName='groupssettings', version='v1', http=http)\n",
      "    \n",
      "    groups = service.groups()\n",
      "    \n",
      "    return groups"
     ],
     "language": "python",
     "metadata": {},
     "outputs": [],
     "prompt_number": 3
    },
    {
     "cell_type": "heading",
     "level": 3,
     "metadata": {},
     "source": [
      "Get the Settings for our Main Group"
     ]
    },
    {
     "cell_type": "code",
     "collapsed": false,
     "input": [
      "def get_group_settings(group_id):\n",
      "    groups_object = create_groups_object(client_id, client_secret)\n",
      "    \n",
      "    main_group_settings = groups_object.get(groupUniqueId=group_id)\n",
      "    main_group_settings = main_group_settings.execute()\n",
      "    \n",
      "#     import pdb; pdb.set_trace()\n",
      "    \n",
      "    return main_group_settings"
     ],
     "language": "python",
     "metadata": {},
     "outputs": [],
     "prompt_number": 4
    },
    {
     "cell_type": "code",
     "collapsed": false,
     "input": [
      "settings = get_group_settings('thisisfortesting@cos.io')"
     ],
     "language": "python",
     "metadata": {},
     "outputs": [],
     "prompt_number": 5
    },
    {
     "cell_type": "heading",
     "level": 3,
     "metadata": {},
     "source": [
      "Change just one setting for the Main Group"
     ]
    },
    {
     "cell_type": "code",
     "collapsed": false,
     "input": [
      "new_settings = {\"primaryLanguage\": \"bg\"}\n",
      "\n",
      "groups_object = create_groups_object(client_id, client_secret)\n",
      "\n",
      "new_settings = groups_object.patch(groupUniqueId='thisisfortesting@cos.io', body=new_settings)\n",
      "new_settings = new_settings.execute()\n",
      "\n",
      "print(json.dumps(new_settings['primaryLanguage'], indent=4))"
     ],
     "language": "python",
     "metadata": {},
     "outputs": [
      {
       "output_type": "stream",
       "stream": "stdout",
       "text": [
        "\"bg\"\n"
       ]
      }
     ],
     "prompt_number": 6
    },
    {
     "cell_type": "markdown",
     "metadata": {},
     "source": [
      "and change it back"
     ]
    },
    {
     "cell_type": "code",
     "collapsed": false,
     "input": [
      "these_settings = {\"primaryLanguage\": \"bg\"}\n",
      "\n",
      "groups_object = create_groups_object(client_id, client_secret)\n",
      "\n",
      "new_settings = groups_object.update(groupUniqueId='thisisfortesting@cos.io', body=these_settings)\n",
      "\n",
      "print type(these_settings)\n",
      "new_settings = new_settings.execute()\n",
      "\n",
      "print(new_settings)"
     ],
     "language": "python",
     "metadata": {},
     "outputs": [
      {
       "output_type": "stream",
       "stream": "stdout",
       "text": [
        "<type 'dict'>\n",
        "{u'allowExternalMembers': u'false', u'whoCanJoin': u'ALL_IN_DOMAIN_CAN_JOIN', u'primaryLanguage': u'bg', u'whoCanViewMembership': u'ALL_MEMBERS_CAN_VIEW', u'defaultMessageDenyNotificationText': u'', u'includeInGlobalAddressList': u'true', u'archiveOnly': u'false', u'isArchived': u'true', u'membersCanPostAsTheGroup': u'false', u'allowWebPosting': u'true', u'email': u'thisisfortesting@cos.io', u'messageModerationLevel': u'MODERATE_NONE', u'description': u'This is for testing...', u'replyTo': u'REPLY_TO_IGNORE', u'customReplyTo': u'', u'sendMessageDenyNotification': u'false', u'whoCanContactOwner': u'ALL_IN_DOMAIN_CAN_CONTACT', u'messageDisplayFont': u'DEFAULT_FONT', u'whoCanLeaveGroup': u'ALL_MEMBERS_CAN_LEAVE', u'whoCanPostMessage': u'ALL_IN_DOMAIN_CAN_POST', u'name': u'thisisfortesting', u'kind': u'groupsSettings#groups', u'whoCanInvite': u'ALL_MANAGERS_CAN_INVITE', u'spamModerationLevel': u'MODERATE', u'whoCanViewGroup': u'ALL_IN_DOMAIN_CAN_VIEW', u'showInGroupDirectory': u'true', u'maxMessageBytes': 5242880, u'allowGoogleCommunication': u'true'}"
       ]
      },
      {
       "output_type": "stream",
       "stream": "stdout",
       "text": [
        "\n"
       ]
      }
     ],
     "prompt_number": 24
    },
    {
     "cell_type": "heading",
     "level": 3,
     "metadata": {},
     "source": [
      "Update All of the Settings at Once for New Groups"
     ]
    },
    {
     "cell_type": "markdown",
     "metadata": {},
     "source": [
      "Set the group you'd like to copy the settings from"
     ]
    },
    {
     "cell_type": "code",
     "collapsed": false,
     "input": [
      "MAIN_GROUP = 'thisisfortesting@cos.io'"
     ],
     "language": "python",
     "metadata": {},
     "outputs": [],
     "prompt_number": 8
    },
    {
     "cell_type": "markdown",
     "metadata": {},
     "source": [
      "List the groups you'd like to copy the settings to"
     ]
    },
    {
     "cell_type": "code",
     "collapsed": false,
     "input": [
      "COPY_GROUPS = ['thisisalsofortesting@cos.io', 'alsofortesting@cos.io']"
     ],
     "language": "python",
     "metadata": {},
     "outputs": [],
     "prompt_number": 9
    },
    {
     "cell_type": "markdown",
     "metadata": {},
     "source": [
      "Make a function to update a list of group names with your new settings"
     ]
    },
    {
     "cell_type": "code",
     "collapsed": false,
     "input": [
      "def update_group_settings(groups_to_update, group_to_copy):\n",
      "    settings_to_copy = get_group_settings(group_to_copy)\n",
      "    \n",
      "    del settings_to_copy['email']    \n",
      "    \n",
      "    groups_object = create_groups_object(client_id, client_secret)\n",
      "    \n",
      "    for group in groups_to_update:\n",
      "        update_order = groups_object.update(groupUniqueId=group, body=settings_to_copy)\n",
      "        new_settings = update_order.execute()\n",
      "        \n",
      "        print(\"Here are the new settings for\" + group + \":\")\n",
      "        print(json.dumps(new_settings, indent=4))"
     ],
     "language": "python",
     "metadata": {},
     "outputs": [],
     "prompt_number": 56
    },
    {
     "cell_type": "code",
     "collapsed": false,
     "input": [
      "update_group_settings(COPY_GROUPS, MAIN_GROUP)"
     ],
     "language": "python",
     "metadata": {},
     "outputs": [
      {
       "output_type": "stream",
       "stream": "stdout",
       "text": [
        "Here are the new settings forthisisalsofortesting@cos.io:\n",
        "{\n",
        "    \"allowExternalMembers\": \"false\", \n",
        "    \"whoCanJoin\": \"ALL_IN_DOMAIN_CAN_JOIN\", \n",
        "    \"primaryLanguage\": \"bg\", \n",
        "    \"whoCanViewMembership\": \"ALL_MEMBERS_CAN_VIEW\", \n",
        "    \"defaultMessageDenyNotificationText\": \"\", \n",
        "    \"includeInGlobalAddressList\": \"true\", \n",
        "    \"archiveOnly\": \"false\", \n",
        "    \"isArchived\": \"true\", \n",
        "    \"membersCanPostAsTheGroup\": \"false\", \n",
        "    \"allowWebPosting\": \"true\", \n",
        "    \"email\": \"thisisalsofortesting@cos.io\", \n",
        "    \"messageModerationLevel\": \"MODERATE_NONE\", \n",
        "    \"description\": \"This is for testing...\", \n",
        "    \"replyTo\": \"REPLY_TO_IGNORE\", \n",
        "    \"customReplyTo\": \"\", \n",
        "    \"sendMessageDenyNotification\": \"false\", \n",
        "    \"whoCanContactOwner\": \"ALL_IN_DOMAIN_CAN_CONTACT\", \n",
        "    \"messageDisplayFont\": \"DEFAULT_FONT\", \n",
        "    \"whoCanLeaveGroup\": \"ALL_MEMBERS_CAN_LEAVE\", \n",
        "    \"whoCanPostMessage\": \"ALL_IN_DOMAIN_CAN_POST\", \n",
        "    \"name\": \"thisisfortesting\", \n",
        "    \"kind\": \"groupsSettings#groups\", \n",
        "    \"whoCanInvite\": \"ALL_MANAGERS_CAN_INVITE\", \n",
        "    \"spamModerationLevel\": \"MODERATE\", \n",
        "    \"whoCanViewGroup\": \"ALL_IN_DOMAIN_CAN_VIEW\", \n",
        "    \"showInGroupDirectory\": \"true\", \n",
        "    \"maxMessageBytes\": 5242880, \n",
        "    \"allowGoogleCommunication\": \"true\"\n",
        "}\n",
        "Here are the new settings foralsofortesting@cos.io:"
       ]
      },
      {
       "output_type": "stream",
       "stream": "stdout",
       "text": [
        "\n",
        "{\n",
        "    \"allowExternalMembers\": \"false\", \n",
        "    \"whoCanJoin\": \"ALL_IN_DOMAIN_CAN_JOIN\", \n",
        "    \"primaryLanguage\": \"bg\", \n",
        "    \"whoCanViewMembership\": \"ALL_MEMBERS_CAN_VIEW\", \n",
        "    \"defaultMessageDenyNotificationText\": \"\", \n",
        "    \"includeInGlobalAddressList\": \"true\", \n",
        "    \"archiveOnly\": \"false\", \n",
        "    \"isArchived\": \"true\", \n",
        "    \"membersCanPostAsTheGroup\": \"false\", \n",
        "    \"allowWebPosting\": \"true\", \n",
        "    \"email\": \"alsofortesting@cos.io\", \n",
        "    \"messageModerationLevel\": \"MODERATE_NONE\", \n",
        "    \"description\": \"This is for testing...\", \n",
        "    \"replyTo\": \"REPLY_TO_IGNORE\", \n",
        "    \"customReplyTo\": \"\", \n",
        "    \"sendMessageDenyNotification\": \"false\", \n",
        "    \"whoCanContactOwner\": \"ALL_IN_DOMAIN_CAN_CONTACT\", \n",
        "    \"messageDisplayFont\": \"DEFAULT_FONT\", \n",
        "    \"whoCanLeaveGroup\": \"ALL_MEMBERS_CAN_LEAVE\", \n",
        "    \"whoCanPostMessage\": \"ALL_IN_DOMAIN_CAN_POST\", \n",
        "    \"name\": \"thisisfortesting\", \n",
        "    \"kind\": \"groupsSettings#groups\", \n",
        "    \"whoCanInvite\": \"ALL_MANAGERS_CAN_INVITE\", \n",
        "    \"spamModerationLevel\": \"MODERATE\", \n",
        "    \"whoCanViewGroup\": \"ALL_IN_DOMAIN_CAN_VIEW\", \n",
        "    \"showInGroupDirectory\": \"true\", \n",
        "    \"maxMessageBytes\": 5242880, \n",
        "    \"allowGoogleCommunication\": \"true\"\n",
        "}\n"
       ]
      }
     ],
     "prompt_number": 57
    },
    {
     "cell_type": "code",
     "collapsed": false,
     "input": [],
     "language": "python",
     "metadata": {},
     "outputs": []
    }
   ],
   "metadata": {}
  }
 ]
}